{
 "cells": [
  {
   "cell_type": "code",
   "execution_count": 2,
   "metadata": {},
   "outputs": [
    {
     "data": {
      "text/plain": [
       "work.hours\n",
       "2 3 4 5 6 7 \n",
       "3 5 3 6 2 1 "
      ]
     },
     "metadata": {},
     "output_type": "display_data"
    }
   ],
   "source": [
    "work.hours <- c(5, 6, 3, 3, 2, 4, 7, 5, 2, 3, 5, 6, 5, 4, 4, 3, 5, 2, 5, 3)\n",
    "table(work.hours)"
   ]
  },
  {
   "cell_type": "code",
   "execution_count": 4,
   "metadata": {},
   "outputs": [
    {
     "data": {
      "text/html": [
       "<table>\n",
       "<thead><tr><th scope=col>work.hours</th><th scope=col>Freq</th></tr></thead>\n",
       "<tbody>\n",
       "\t<tr><td>2</td><td>3</td></tr>\n",
       "\t<tr><td>3</td><td>5</td></tr>\n",
       "\t<tr><td>4</td><td>3</td></tr>\n",
       "\t<tr><td>5</td><td>6</td></tr>\n",
       "\t<tr><td>6</td><td>2</td></tr>\n",
       "\t<tr><td>7</td><td>1</td></tr>\n",
       "</tbody>\n",
       "</table>\n"
      ],
      "text/latex": [
       "\\begin{tabular}{r|ll}\n",
       " work.hours & Freq\\\\\n",
       "\\hline\n",
       "\t 2 & 3\\\\\n",
       "\t 3 & 5\\\\\n",
       "\t 4 & 3\\\\\n",
       "\t 5 & 6\\\\\n",
       "\t 6 & 2\\\\\n",
       "\t 7 & 1\\\\\n",
       "\\end{tabular}\n"
      ],
      "text/markdown": [
       "\n",
       "work.hours | Freq | \n",
       "|---|---|---|---|---|---|\n",
       "| 2 | 3 | \n",
       "| 3 | 5 | \n",
       "| 4 | 3 | \n",
       "| 5 | 6 | \n",
       "| 6 | 2 | \n",
       "| 7 | 1 | \n",
       "\n",
       "\n"
      ],
      "text/plain": [
       "  work.hours Freq\n",
       "1 2          3   \n",
       "2 3          5   \n",
       "3 4          3   \n",
       "4 5          6   \n",
       "5 6          2   \n",
       "6 7          1   "
      ]
     },
     "metadata": {},
     "output_type": "display_data"
    }
   ],
   "source": [
    "data.frame(table(work.hours))"
   ]
  },
  {
   "cell_type": "code",
   "execution_count": 6,
   "metadata": {},
   "outputs": [
    {
     "data": {
      "text/html": [
       "20"
      ],
      "text/latex": [
       "20"
      ],
      "text/markdown": [
       "20"
      ],
      "text/plain": [
       "[1] 20"
      ]
     },
     "metadata": {},
     "output_type": "display_data"
    }
   ],
   "source": [
    "freq <- table(work.hours)\n",
    "sum(freq)"
   ]
  },
  {
   "cell_type": "code",
   "execution_count": 9,
   "metadata": {},
   "outputs": [
    {
     "data": {
      "text/html": [
       "<table>\n",
       "<thead><tr><th scope=col>work.hours</th><th scope=col>Freq</th></tr></thead>\n",
       "<tbody>\n",
       "\t<tr><td>2   </td><td>0.15</td></tr>\n",
       "\t<tr><td>3   </td><td>0.25</td></tr>\n",
       "\t<tr><td>4   </td><td>0.15</td></tr>\n",
       "\t<tr><td>5   </td><td>0.30</td></tr>\n",
       "\t<tr><td>6   </td><td>0.10</td></tr>\n",
       "\t<tr><td>7   </td><td>0.05</td></tr>\n",
       "</tbody>\n",
       "</table>\n"
      ],
      "text/latex": [
       "\\begin{tabular}{r|ll}\n",
       " work.hours & Freq\\\\\n",
       "\\hline\n",
       "\t 2    & 0.15\\\\\n",
       "\t 3    & 0.25\\\\\n",
       "\t 4    & 0.15\\\\\n",
       "\t 5    & 0.30\\\\\n",
       "\t 6    & 0.10\\\\\n",
       "\t 7    & 0.05\\\\\n",
       "\\end{tabular}\n"
      ],
      "text/markdown": [
       "\n",
       "work.hours | Freq | \n",
       "|---|---|---|---|---|---|\n",
       "| 2    | 0.15 | \n",
       "| 3    | 0.25 | \n",
       "| 4    | 0.15 | \n",
       "| 5    | 0.30 | \n",
       "| 6    | 0.10 | \n",
       "| 7    | 0.05 | \n",
       "\n",
       "\n"
      ],
      "text/plain": [
       "  work.hours Freq\n",
       "1 2          0.15\n",
       "2 3          0.25\n",
       "3 4          0.15\n",
       "4 5          0.30\n",
       "5 6          0.10\n",
       "6 7          0.05"
      ]
     },
     "metadata": {},
     "output_type": "display_data"
    }
   ],
   "source": [
    "data.frame(freq/sum(freq))"
   ]
  },
  {
   "cell_type": "code",
   "execution_count": 11,
   "metadata": {},
   "outputs": [
    {
     "data": {
      "text/html": [
       "<table>\n",
       "<thead><tr><th></th><th scope=col>cumsum.freq.sum.freq..</th></tr></thead>\n",
       "<tbody>\n",
       "\t<tr><th scope=row>2</th><td>0.15</td></tr>\n",
       "\t<tr><th scope=row>3</th><td>0.40</td></tr>\n",
       "\t<tr><th scope=row>4</th><td>0.55</td></tr>\n",
       "\t<tr><th scope=row>5</th><td>0.85</td></tr>\n",
       "\t<tr><th scope=row>6</th><td>0.95</td></tr>\n",
       "\t<tr><th scope=row>7</th><td>1.00</td></tr>\n",
       "</tbody>\n",
       "</table>\n"
      ],
      "text/latex": [
       "\\begin{tabular}{r|l}\n",
       "  & cumsum.freq.sum.freq..\\\\\n",
       "\\hline\n",
       "\t2 & 0.15\\\\\n",
       "\t3 & 0.40\\\\\n",
       "\t4 & 0.55\\\\\n",
       "\t5 & 0.85\\\\\n",
       "\t6 & 0.95\\\\\n",
       "\t7 & 1.00\\\\\n",
       "\\end{tabular}\n"
      ],
      "text/markdown": [
       "\n",
       "| <!--/--> | cumsum.freq.sum.freq.. | \n",
       "|---|---|---|---|---|---|\n",
       "| 2 | 0.15 | \n",
       "| 3 | 0.40 | \n",
       "| 4 | 0.55 | \n",
       "| 5 | 0.85 | \n",
       "| 6 | 0.95 | \n",
       "| 7 | 1.00 | \n",
       "\n",
       "\n"
      ],
      "text/plain": [
       "  cumsum.freq.sum.freq..\n",
       "2 0.15                  \n",
       "3 0.40                  \n",
       "4 0.55                  \n",
       "5 0.85                  \n",
       "6 0.95                  \n",
       "7 1.00                  "
      ]
     },
     "metadata": {},
     "output_type": "display_data"
    }
   ],
   "source": [
    "data.frame(cumsum(freq/sum(freq)))"
   ]
  },
  {
   "cell_type": "code",
   "execution_count": 14,
   "metadata": {},
   "outputs": [
    {
     "data": {
      "text/html": [
       "<table>\n",
       "<thead><tr><th scope=col>id</th><th scope=col>sex</th><th scope=col>height</th></tr></thead>\n",
       "<tbody>\n",
       "\t<tr><td>5696379</td><td>FEMALE </td><td>182    </td></tr>\n",
       "\t<tr><td>3019088</td><td>MALE   </td><td>168    </td></tr>\n",
       "\t<tr><td>2038883</td><td>MALE   </td><td>172    </td></tr>\n",
       "\t<tr><td>1920587</td><td>FEMALE </td><td>154    </td></tr>\n",
       "\t<tr><td>6006813</td><td>MALE   </td><td>174    </td></tr>\n",
       "\t<tr><td>4055945</td><td>FEMALE </td><td>176    </td></tr>\n",
       "</tbody>\n",
       "</table>\n"
      ],
      "text/latex": [
       "\\begin{tabular}{r|lll}\n",
       " id & sex & height\\\\\n",
       "\\hline\n",
       "\t 5696379 & FEMALE  & 182    \\\\\n",
       "\t 3019088 & MALE    & 168    \\\\\n",
       "\t 2038883 & MALE    & 172    \\\\\n",
       "\t 1920587 & FEMALE  & 154    \\\\\n",
       "\t 6006813 & MALE    & 174    \\\\\n",
       "\t 4055945 & FEMALE  & 176    \\\\\n",
       "\\end{tabular}\n"
      ],
      "text/markdown": [
       "\n",
       "id | sex | height | \n",
       "|---|---|---|---|---|---|\n",
       "| 5696379 | FEMALE  | 182     | \n",
       "| 3019088 | MALE    | 168     | \n",
       "| 2038883 | MALE    | 172     | \n",
       "| 1920587 | FEMALE  | 154     | \n",
       "| 6006813 | MALE    | 174     | \n",
       "| 4055945 | FEMALE  | 176     | \n",
       "\n",
       "\n"
      ],
      "text/plain": [
       "  id      sex    height\n",
       "1 5696379 FEMALE 182   \n",
       "2 3019088 MALE   168   \n",
       "3 2038883 MALE   172   \n",
       "4 1920587 FEMALE 154   \n",
       "5 6006813 MALE   174   \n",
       "6 4055945 FEMALE 176   "
      ]
     },
     "metadata": {},
     "output_type": "display_data"
    }
   ],
   "source": [
    "ex.1 <- read.csv(\"data//ex1.csv\")\n",
    "head(ex.1)  # 变量的值为数字是，为数值变量，反之为因子"
   ]
  },
  {
   "cell_type": "markdown",
   "metadata": {},
   "source": [
    "**注意：如果要用数据来表示水平的因子，则必须显式声明为因子，否则会被当数值变量（定量数据）处理。**"
   ]
  },
  {
   "cell_type": "markdown",
   "metadata": {},
   "source": [
    "# 问题\n",
    "## 2.2"
   ]
  },
  {
   "cell_type": "code",
   "execution_count": 20,
   "metadata": {},
   "outputs": [
    {
     "data": {
      "text/html": [
       "<table>\n",
       "<thead><tr><th scope=col>calves</th><th scope=col>Freq</th></tr></thead>\n",
       "<tbody>\n",
       "\t<tr><td>1 </td><td> 4</td></tr>\n",
       "\t<tr><td>2 </td><td> 3</td></tr>\n",
       "\t<tr><td>3 </td><td>11</td></tr>\n",
       "\t<tr><td>4 </td><td>10</td></tr>\n",
       "\t<tr><td>5 </td><td> 4</td></tr>\n",
       "\t<tr><td>6 </td><td> 6</td></tr>\n",
       "\t<tr><td>7 </td><td> 7</td></tr>\n",
       "</tbody>\n",
       "</table>\n"
      ],
      "text/latex": [
       "\\begin{tabular}{r|ll}\n",
       " calves & Freq\\\\\n",
       "\\hline\n",
       "\t 1  &  4\\\\\n",
       "\t 2  &  3\\\\\n",
       "\t 3  & 11\\\\\n",
       "\t 4  & 10\\\\\n",
       "\t 5  &  4\\\\\n",
       "\t 6  &  6\\\\\n",
       "\t 7  &  7\\\\\n",
       "\\end{tabular}\n"
      ],
      "text/markdown": [
       "\n",
       "calves | Freq | \n",
       "|---|---|---|---|---|---|---|\n",
       "| 1  |  4 | \n",
       "| 2  |  3 | \n",
       "| 3  | 11 | \n",
       "| 4  | 10 | \n",
       "| 5  |  4 | \n",
       "| 6  |  6 | \n",
       "| 7  |  7 | \n",
       "\n",
       "\n"
      ],
      "text/plain": [
       "  calves Freq\n",
       "1 1       4  \n",
       "2 2       3  \n",
       "3 3      11  \n",
       "4 4      10  \n",
       "5 5       4  \n",
       "6 6       6  \n",
       "7 7       7  "
      ]
     },
     "metadata": {},
     "output_type": "display_data"
    },
    {
     "data": {
      "text/html": [
       "<table>\n",
       "<thead><tr><th scope=col>cumsum.freq.</th></tr></thead>\n",
       "<tbody>\n",
       "\t<tr><td> 4</td></tr>\n",
       "\t<tr><td> 7</td></tr>\n",
       "\t<tr><td>18</td></tr>\n",
       "\t<tr><td>28</td></tr>\n",
       "\t<tr><td>32</td></tr>\n",
       "\t<tr><td>38</td></tr>\n",
       "\t<tr><td>45</td></tr>\n",
       "</tbody>\n",
       "</table>\n"
      ],
      "text/latex": [
       "\\begin{tabular}{r|l}\n",
       " cumsum.freq.\\\\\n",
       "\\hline\n",
       "\t  4\\\\\n",
       "\t  7\\\\\n",
       "\t 18\\\\\n",
       "\t 28\\\\\n",
       "\t 32\\\\\n",
       "\t 38\\\\\n",
       "\t 45\\\\\n",
       "\\end{tabular}\n"
      ],
      "text/markdown": [
       "\n",
       "cumsum.freq. | \n",
       "|---|---|---|---|---|---|---|\n",
       "|  4 | \n",
       "|  7 | \n",
       "| 18 | \n",
       "| 28 | \n",
       "| 32 | \n",
       "| 38 | \n",
       "| 45 | \n",
       "\n",
       "\n"
      ],
      "text/plain": [
       "  cumsum.freq.\n",
       "1  4          \n",
       "2  7          \n",
       "3 18          \n",
       "4 28          \n",
       "5 32          \n",
       "6 38          \n",
       "7 45          "
      ]
     },
     "metadata": {},
     "output_type": "display_data"
    }
   ],
   "source": [
    "calves <- c(1, 1, 1, 1, 2, 2, 2, 3, 3, 3, 3, 3, 3, 3, 3, 3, 3, 3, 4, 4, 4, 4, 4, \n",
    "    4, 4, 4, 4, 4, 5, 5, 5, 5, 6, 6, 6, 6, 6, 6, 7, 7, 7, 7, 7, 7, 7)\n",
    "freq <- table(calves)\n",
    "data.frame(freq)\n",
    "data.frame(cumsum(freq))"
   ]
  },
  {
   "cell_type": "code",
   "execution_count": 23,
   "metadata": {},
   "outputs": [
    {
     "data": {
      "text/html": [
       "<table>\n",
       "<thead><tr><th scope=col>calves</th><th scope=col>Freq</th></tr></thead>\n",
       "<tbody>\n",
       "\t<tr><td>1         </td><td>0.08888889</td></tr>\n",
       "\t<tr><td>2         </td><td>0.06666667</td></tr>\n",
       "\t<tr><td>3         </td><td>0.24444444</td></tr>\n",
       "\t<tr><td>4         </td><td>0.22222222</td></tr>\n",
       "\t<tr><td>5         </td><td>0.08888889</td></tr>\n",
       "\t<tr><td>6         </td><td>0.13333333</td></tr>\n",
       "\t<tr><td>7         </td><td>0.15555556</td></tr>\n",
       "</tbody>\n",
       "</table>\n"
      ],
      "text/latex": [
       "\\begin{tabular}{r|ll}\n",
       " calves & Freq\\\\\n",
       "\\hline\n",
       "\t 1          & 0.08888889\\\\\n",
       "\t 2          & 0.06666667\\\\\n",
       "\t 3          & 0.24444444\\\\\n",
       "\t 4          & 0.22222222\\\\\n",
       "\t 5          & 0.08888889\\\\\n",
       "\t 6          & 0.13333333\\\\\n",
       "\t 7          & 0.15555556\\\\\n",
       "\\end{tabular}\n"
      ],
      "text/markdown": [
       "\n",
       "calves | Freq | \n",
       "|---|---|---|---|---|---|---|\n",
       "| 1          | 0.08888889 | \n",
       "| 2          | 0.06666667 | \n",
       "| 3          | 0.24444444 | \n",
       "| 4          | 0.22222222 | \n",
       "| 5          | 0.08888889 | \n",
       "| 6          | 0.13333333 | \n",
       "| 7          | 0.15555556 | \n",
       "\n",
       "\n"
      ],
      "text/plain": [
       "  calves Freq      \n",
       "1 1      0.08888889\n",
       "2 2      0.06666667\n",
       "3 3      0.24444444\n",
       "4 4      0.22222222\n",
       "5 5      0.08888889\n",
       "6 6      0.13333333\n",
       "7 7      0.15555556"
      ]
     },
     "metadata": {},
     "output_type": "display_data"
    }
   ],
   "source": [
    "data.frame(freq/sum(freq))"
   ]
  }
 ],
 "metadata": {
  "kernelspec": {
   "display_name": "R",
   "language": "R",
   "name": "ir"
  },
  "language_info": {
   "codemirror_mode": "r",
   "file_extension": ".r",
   "mimetype": "text/x-r-source",
   "name": "R",
   "pygments_lexer": "r",
   "version": "3.4.0"
  }
 },
 "nbformat": 4,
 "nbformat_minor": 2
}
