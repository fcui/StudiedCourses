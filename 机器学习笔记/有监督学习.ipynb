{
 "cells": [
  {
   "cell_type": "markdown",
   "metadata": {},
   "source": [
    "<cite data-cite=\"5980095/9VHQQ9QU\"></cite>"
   ]
  },
  {
   "cell_type": "markdown",
   "metadata": {},
   "source": [
    "<div class=\"cite2c-biblio\"></div>"
   ]
  }
 ],
 "metadata": {
  "cite2c": {
   "citations": {
    "5980095/9VHQQ9QU": {
     "ISBN": "978-7-302-206853-6",
     "URL": "http://cs.nju.edu.cn/zhouzh/zhouzh.files/publication/MLbook2016.htm",
     "author": [
      {
       "family": "周志华",
       "given": ""
      }
     ],
     "event-place": "北京",
     "id": "5980095/9VHQQ9QU",
     "issued": {
      "year": 2016
     },
     "publisher": "清华大学出版社",
     "publisher-place": "北京",
     "title": "机器学习",
     "type": "book"
    },
    "5980095/FU5QR76S": {
     "ISBN": "1449369413",
     "URL": "http://shop.oreilly.com/product/0636920030515.do",
     "abstract": "Machine learning has become an integral part of many commercial applications and research projects, but this field is not exclusive to large companies with extensive research teams. If you use Python, even as a beginner, this book will teach you practical ways to build your own machine learning solutions. With all the data available today, machine learning applications are limited only by your imagination.\n\nYou’ll learn the steps necessary to create a successful machine-learning application with Python and the scikit-learn library. Authors Andreas Müller and Sarah Guido focus on the practical aspects of using machine learning algorithms, rather than the math behind them. Familiarity with the NumPy and matplotlib libraries will help you get even more from this book.\n\nWith this book, you’ll learn:\n\nFundamental concepts and applications of machine learning\nAdvantages and shortcomings of widely used machine learning algorithms\nHow to represent data processed by machine learning, including which data aspects to focus on\nAdvanced methods for model evaluation and parameter tuning\nThe concept of pipelines for chaining models and encapsulating your workflow\nMethods for working with text data, including text-specific processing techniques\nSuggestions for improving your machine learning and data science skills",
     "author": [
      {
       "family": "Sarah Guido",
       "given": "Andreas Müller"
      }
     ],
     "id": "5980095/FU5QR76S",
     "issued": {
      "month": 10,
      "year": 2016
     },
     "publisher": "O'Reilly Media",
     "title": "Introduction to Machine Learning with Python",
     "type": "book"
    }
   }
  },
  "hide_input": false,
  "kernelspec": {
   "display_name": "Python 3",
   "language": "python",
   "name": "python3"
  },
  "language_info": {
   "codemirror_mode": {
    "name": "ipython",
    "version": 3
   },
   "file_extension": ".py",
   "mimetype": "text/x-python",
   "name": "python",
   "nbconvert_exporter": "python",
   "pygments_lexer": "ipython3",
   "version": "3.6.5"
  },
  "toc": {
   "nav_menu": {},
   "number_sections": true,
   "sideBar": true,
   "skip_h1_title": true,
   "toc_cell": false,
   "toc_position": {},
   "toc_section_display": "block",
   "toc_window_display": false
  },
  "varInspector": {
   "cols": {
    "lenName": 16,
    "lenType": 16,
    "lenVar": 40
   },
   "kernels_config": {
    "python": {
     "delete_cmd_postfix": "",
     "delete_cmd_prefix": "del ",
     "library": "var_list.py",
     "varRefreshCmd": "print(var_dic_list())"
    },
    "r": {
     "delete_cmd_postfix": ") ",
     "delete_cmd_prefix": "rm(",
     "library": "var_list.r",
     "varRefreshCmd": "cat(var_dic_list()) "
    }
   },
   "types_to_exclude": [
    "module",
    "function",
    "builtin_function_or_method",
    "instance",
    "_Feature"
   ],
   "window_display": false
  }
 },
 "nbformat": 4,
 "nbformat_minor": 2
}
