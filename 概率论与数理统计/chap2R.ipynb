{
 "cells": [
  {
   "cell_type": "markdown",
   "metadata": {},
   "source": [
    "# 随机变量及分布"
   ]
  },
  {
   "cell_type": "markdown",
   "metadata": {},
   "source": [
    "## 6. "
   ]
  },
  {
   "cell_type": "markdown",
   "metadata": {},
   "source": [
    "### (1) "
   ]
  },
  {
   "cell_type": "code",
   "execution_count": 8,
   "metadata": {},
   "outputs": [
    {
     "data": {
      "text/html": [
       "0.0729"
      ],
      "text/latex": [
       "0.0729"
      ],
      "text/markdown": [
       "0.0729"
      ],
      "text/plain": [
       "[1] 0.0729"
      ]
     },
     "metadata": {},
     "output_type": "display_data"
    }
   ],
   "source": [
    "dbinom(2, 5, 0.1)"
   ]
  },
  {
   "cell_type": "markdown",
   "metadata": {},
   "source": [
    "### (2) "
   ]
  },
  {
   "cell_type": "code",
   "execution_count": 3,
   "metadata": {},
   "outputs": [
    {
     "data": {
      "text/html": [
       "0.00856000000000001"
      ],
      "text/latex": [
       "0.00856000000000001"
      ],
      "text/markdown": [
       "0.00856000000000001"
      ],
      "text/plain": [
       "[1] 0.00856"
      ]
     },
     "metadata": {},
     "output_type": "display_data"
    }
   ],
   "source": [
    "1 - pbinom(2, 5, 0.1)"
   ]
  },
  {
   "cell_type": "markdown",
   "metadata": {},
   "source": [
    "### (3) "
   ]
  },
  {
   "cell_type": "code",
   "execution_count": 4,
   "metadata": {},
   "outputs": [
    {
     "data": {
      "text/html": [
       "0.99954"
      ],
      "text/latex": [
       "0.99954"
      ],
      "text/markdown": [
       "0.99954"
      ],
      "text/plain": [
       "[1] 0.99954"
      ]
     },
     "metadata": {},
     "output_type": "display_data"
    }
   ],
   "source": [
    "pbinom(3, 5, 0.1)"
   ]
  },
  {
   "cell_type": "markdown",
   "metadata": {},
   "source": [
    "### (4) "
   ]
  },
  {
   "cell_type": "code",
   "execution_count": 5,
   "metadata": {},
   "outputs": [
    {
     "data": {
      "text/html": [
       "0.40951"
      ],
      "text/latex": [
       "0.40951"
      ],
      "text/markdown": [
       "0.40951"
      ],
      "text/plain": [
       "[1] 0.40951"
      ]
     },
     "metadata": {},
     "output_type": "display_data"
    }
   ],
   "source": [
    "1 - pbinom(0, 5, 0.1)"
   ]
  },
  {
   "cell_type": "markdown",
   "metadata": {},
   "source": [
    "## 11."
   ]
  },
  {
   "cell_type": "code",
   "execution_count": 2,
   "metadata": {},
   "outputs": [
    {
     "data": {
      "text/html": [
       "0.00247875217666636"
      ],
      "text/latex": [
       "0.00247875217666636"
      ],
      "text/markdown": [
       "0.00247875217666636"
      ],
      "text/plain": [
       "[1] 0.002478752"
      ]
     },
     "metadata": {},
     "output_type": "display_data"
    }
   ],
   "source": [
    "ppois(0, 6)"
   ]
  },
  {
   "cell_type": "markdown",
   "metadata": {},
   "source": [
    "## 16."
   ]
  },
  {
   "cell_type": "code",
   "execution_count": 4,
   "metadata": {},
   "outputs": [
    {
     "data": {
      "text/html": [
       "0.0046788401604444"
      ],
      "text/latex": [
       "0.0046788401604444"
      ],
      "text/markdown": [
       "0.0046788401604444"
      ],
      "text/plain": [
       "[1] 0.00467884"
      ]
     },
     "metadata": {},
     "output_type": "display_data"
    }
   ],
   "source": [
    "1 - ppois(1, 0.1)"
   ]
  },
  {
   "cell_type": "markdown",
   "metadata": {},
   "source": [
    "## 21."
   ]
  },
  {
   "cell_type": "markdown",
   "metadata": {},
   "source": [
    "### (1)"
   ]
  },
  {
   "cell_type": "code",
   "execution_count": 7,
   "metadata": {},
   "outputs": [
    {
     "name": "stderr",
     "output_type": "stream",
     "text": [
      "Warning message in if ((x >= 0) & (x < 1)) {:\n",
      "\"条件的长度大于一，因此只能用其第一元素\""
     ]
    },
    {
     "ename": "ERROR",
     "evalue": "Error in curve(F, -1, 1): 'expr' did not evaluate to an object of length 'n'\n",
     "output_type": "error",
     "traceback": [
      "Error in curve(F, -1, 1): 'expr' did not evaluate to an object of length 'n'\nTraceback:\n",
      "1. curve(F, -1, 1)",
      "2. stop(\"'expr' did not evaluate to an object of length 'n'\")"
     ]
    }
   ],
   "source": [
    "F <- function(x) {\n",
    "    res = 0\n",
    "    if ((x >= 0) & (x < 1)) {\n",
    "        res = x * x/2\n",
    "    }\n",
    "    \n",
    "    return(res)\n",
    "}\n",
    "curve(F, -1, 1)"
   ]
  },
  {
   "cell_type": "code",
   "execution_count": null,
   "metadata": {
    "collapsed": true
   },
   "outputs": [],
   "source": []
  }
 ],
 "metadata": {
  "kernelspec": {
   "display_name": "R",
   "language": "R",
   "name": "ir"
  },
  "language_info": {
   "codemirror_mode": "r",
   "file_extension": ".r",
   "mimetype": "text/x-r-source",
   "name": "R",
   "pygments_lexer": "r",
   "version": "3.4.0"
  }
 },
 "nbformat": 4,
 "nbformat_minor": 2
}
