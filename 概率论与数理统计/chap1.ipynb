{
 "cells": [
  {
   "cell_type": "markdown",
   "metadata": {},
   "source": [
    "1.\n",
    "\n",
    "- $S=\\{\\frac{i}{n}\\mid i=0,1,\\ldots,100n\\}$, $n$ 为学生总人数\n",
    "- $S=\\{10+k\\mid k=0,1,2,\\ldots\\}$\n",
    "- 以0表示次品, 以1表示正品, 可将0到15的二进制数中去掉连续为0的数."
   ]
  },
  {
   "cell_type": "markdown",
   "metadata": {},
   "source": [
    "7.\n",
    "\n",
    "$${10\\choose 4}{4\\choose 3}{3\\choose 2}\\Bigg/{17\\choose 9}=\\frac{252}{2431}$$"
   ]
  },
  {
   "cell_type": "markdown",
   "metadata": {},
   "source": [
    "13.\n",
    "\n",
    "(1)\n",
    "$${5\\choose 1}{2\\choose 1}{3\\choose 1}{2\\choose 1}\\Bigg/{12\\choose 4}=\\frac{4}{33}$$\n",
    "~~(2)~~\n",
    "$$\\left[{5\\choose 2}{2\\choose 1}{3\\choose 1}{2\\choose 1}+{5\\choose 1}{2\\choose 2}{3\\choose 1}{2\\choose 1}+{5\\choose 1}{2\\choose 1}{3\\choose 2}{2\\choose 1}+{5\\choose 1}{2\\choose 1}{3\\choose 1}{2\\choose 2}\\right]\\Bigg/{12\\choose 4}=\\frac{10}{33}$$"
   ]
  },
  {
   "cell_type": "markdown",
   "metadata": {},
   "source": [
    "19.\n"
   ]
  }
 ],
 "metadata": {
  "kernelspec": {
   "display_name": "Python 3",
   "language": "python",
   "name": "python3"
  },
  "language_info": {
   "codemirror_mode": {
    "name": "ipython",
    "version": 3
   },
   "file_extension": ".py",
   "mimetype": "text/x-python",
   "name": "python",
   "nbconvert_exporter": "python",
   "pygments_lexer": "ipython3",
   "version": "3.6.1"
  }
 },
 "nbformat": 4,
 "nbformat_minor": 2
}
