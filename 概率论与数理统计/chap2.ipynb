{
 "cells": [
  {
   "cell_type": "markdown",
   "metadata": {},
   "source": [
    "## 6. \n",
    "$$P(X=k)={5\\choose k}(0.1)^k(0.9)^{5-k}$$\n",
    "### (1) \n",
    "$$P(X=2)={5\\choose 2}(0.1)^2(0.9)^{3}=0.0729$$"
   ]
  },
  {
   "cell_type": "code",
   "execution_count": 1,
   "metadata": {},
   "outputs": [
    {
     "data": {
      "text/html": [
       "0.0729000000000001"
      ],
      "text/latex": [
       "0.0729000000000001"
      ],
      "text/markdown": [
       "0.0729000000000001"
      ],
      "text/plain": [
       "[1] 0.0729"
      ]
     },
     "metadata": {},
     "output_type": "display_data"
    }
   ],
   "source": [
    "pbinom(2, 5, 0.1) - pbinom(1, 5, 0.1)"
   ]
  },
  {
   "cell_type": "markdown",
   "metadata": {},
   "source": [
    "### (2) \n",
    "$$1-\\sum_{k=0}^2P(X=k)=0.00856$$"
   ]
  },
  {
   "cell_type": "code",
   "execution_count": 3,
   "metadata": {},
   "outputs": [
    {
     "data": {
      "text/html": [
       "0.00856000000000001"
      ],
      "text/latex": [
       "0.00856000000000001"
      ],
      "text/markdown": [
       "0.00856000000000001"
      ],
      "text/plain": [
       "[1] 0.00856"
      ]
     },
     "metadata": {},
     "output_type": "display_data"
    }
   ],
   "source": [
    "1 - pbinom(2, 5, 0.1)"
   ]
  },
  {
   "cell_type": "markdown",
   "metadata": {},
   "source": [
    "### (3) \n",
    "$$1-\\sum_{k=4}^5 P(X=k)=0.99954$$"
   ]
  },
  {
   "cell_type": "code",
   "execution_count": 4,
   "metadata": {},
   "outputs": [
    {
     "data": {
      "text/html": [
       "0.99954"
      ],
      "text/latex": [
       "0.99954"
      ],
      "text/markdown": [
       "0.99954"
      ],
      "text/plain": [
       "[1] 0.99954"
      ]
     },
     "metadata": {},
     "output_type": "display_data"
    }
   ],
   "source": [
    "pbinom(3, 5, 0.1)"
   ]
  },
  {
   "cell_type": "markdown",
   "metadata": {},
   "source": [
    "### (4) \n",
    "$$1-P(X=0)=0.40951$$"
   ]
  },
  {
   "cell_type": "code",
   "execution_count": 5,
   "metadata": {},
   "outputs": [
    {
     "data": {
      "text/html": [
       "0.40951"
      ],
      "text/latex": [
       "0.40951"
      ],
      "text/markdown": [
       "0.40951"
      ],
      "text/plain": [
       "[1] 0.40951"
      ]
     },
     "metadata": {},
     "output_type": "display_data"
    }
   ],
   "source": [
    "1 - pbinom(0, 5, 0.1)"
   ]
  },
  {
   "cell_type": "markdown",
   "metadata": {},
   "source": [
    "## 11."
   ]
  }
 ],
 "metadata": {
  "kernelspec": {
   "display_name": "R",
   "language": "R",
   "name": "ir"
  },
  "language_info": {
   "codemirror_mode": "r",
   "file_extension": ".r",
   "mimetype": "text/x-r-source",
   "name": "R",
   "pygments_lexer": "r",
   "version": "3.4.0"
  }
 },
 "nbformat": 4,
 "nbformat_minor": 2
}
